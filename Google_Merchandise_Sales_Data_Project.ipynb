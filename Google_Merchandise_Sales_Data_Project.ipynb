{
  "nbformat": 4,
  "nbformat_minor": 0,
  "metadata": {
    "colab": {
      "provenance": []
    },
    "kernelspec": {
      "name": "python3",
      "display_name": "Python 3"
    },
    "language_info": {
      "name": "python"
    }
  },
  "cells": [
    {
      "cell_type": "code",
      "execution_count": null,
      "metadata": {
        "id": "M4TQVsdc0j-p"
      },
      "outputs": [],
      "source": [
        "from pyspark import SparkContext, SparkConf\n",
        "from pyspark.sql import SparkSession\n",
        "from pyspark.sql.functions import *\n",
        "from pyspark.sql.types import IntegerType\n",
        "from pyspark.sql.functions import col, max as max_, when, count, avg, expr, explode\n",
        "from pyspark.ml.recommendation import ALS\n",
        "from pyspark.ml.evaluation import RegressionEvaluator\n",
        "from pyspark.sql.functions import lit\n",
        "import pandas as pd\n",
        "import matplotlib.pyplot as plt\n",
        "import seaborn as sns\n",
        "import re\n",
        "\n",
        "conf = SparkConf().setAppName('Google Merchandise Recommendation System')\n",
        "sc = SparkContext.getOrCreate(conf = conf)\n",
        "\n",
        "spark = SparkSession.builder\\\n",
        "        .master(\"local\")\\\n",
        "        .appName(\"Colab\")\\\n",
        "        .config('spark.ui.port', '4050')\\\n",
        "        .getOrCreate()"
      ]
    },
    {
      "cell_type": "code",
      "source": [],
      "metadata": {
        "id": "qI0ooqOB3kNI"
      },
      "execution_count": null,
      "outputs": []
    },
    {
      "cell_type": "markdown",
      "source": [
        "# **Importing Dataset**"
      ],
      "metadata": {
        "id": "htkzENJWEg6s"
      }
    },
    {
      "cell_type": "code",
      "source": [
        "events_df = spark.read.csv(\"/content/events1.csv\", header=True)\n",
        "items_df = spark.read.csv(\"/content/items.csv\", header=True)\n",
        "users_df = spark.read.csv(\"/content/users.csv\", header=True)"
      ],
      "metadata": {
        "id": "0bb8djsb05TG"
      },
      "execution_count": null,
      "outputs": []
    },
    {
      "cell_type": "markdown",
      "source": [
        "# **Data Pre-Processing**"
      ],
      "metadata": {
        "id": "xfXj1pm3EDm7"
      }
    },
    {
      "cell_type": "code",
      "source": [
        "#Dropping columns which are not required for recommendation\n",
        "events_df = events_df.drop(\"ga_session_id\").drop(\"date\").drop(\"device\")\n",
        "\n",
        "items_df = items_df.drop(\"brand\").drop(\"price_in_usd\").drop(\"variant\")\n",
        "items_df = items_df.withColumnRenamed(\"id\", \"item_id\")\n",
        "\n",
        "final_df = events_df.join(items_df, on=\"item_id\", how=\"inner\")\n",
        "final_df = final_df.withColumn('item_id', final_df['item_id'].cast(IntegerType()))\n",
        "final_df = final_df.withColumn('user_id', final_df['user_id'].cast(IntegerType()))\n",
        "\n",
        "# Checking NULL values\n",
        "for column in final_df.columns:\n",
        "    print(column,final_df.filter(col(column).isNull()).count())\n",
        "\n",
        "final_df = final_df.dropna(subset=[\"country\"])\n",
        "final_df = final_df.dropDuplicates()\n",
        "\n",
        "final_df.show(5)\n",
        "final_df.count()"
      ],
      "metadata": {
        "colab": {
          "base_uri": "https://localhost:8080/"
        },
        "id": "Fe9jF4ku1I0U",
        "outputId": "c2ca3703-f386-459d-b8d1-c9fd48deddab"
      },
      "execution_count": null,
      "outputs": [
        {
          "output_type": "stream",
          "name": "stdout",
          "text": [
            "item_id 0\n",
            "user_id 0\n",
            "country 4562\n",
            "type 0\n",
            "name 0\n",
            "category 0\n",
            "+-------+-------+-------+-----------+--------------------+-----------------+\n",
            "|item_id|user_id|country|       type|                name|         category|\n",
            "+-------+-------+-------+-----------+--------------------+-----------------+\n",
            "|   1068|   5808|     US|add_to_cart|Google Eco Tee Black|          Apparel|\n",
            "|    406|  20141|     US|   purchase|Google Chicago Ca...|Campus Collection|\n",
            "|    280|   9745|     US|   purchase|Google Sherpa Zip...|          Apparel|\n",
            "|    385|  25157|     IE|   purchase|  Android Iconic Pen|              New|\n",
            "|     53|  29052|     IN|   purchase|Google Sherpa Zip...|          Apparel|\n",
            "+-------+-------+-------+-----------+--------------------+-----------------+\n",
            "only showing top 5 rows\n",
            "\n"
          ]
        },
        {
          "output_type": "execute_result",
          "data": {
            "text/plain": [
              "295037"
            ]
          },
          "metadata": {},
          "execution_count": 3
        }
      ]
    },
    {
      "cell_type": "code",
      "source": [
        "# Calculating Total interaction counts by grouping 'type',`'category', and 'country' columns\n",
        "interaction_counts = final_df.groupBy(\"type\",\"category\",\"country\").agg(count(\"*\").alias(\"count\"))\n",
        "\n",
        "# Calculating maximum count across all\n",
        "max_count = interaction_counts.agg(max_(\"count\").alias(\"max_count\")).collect()[0][\"max_count\"]\n",
        "\n",
        "# Calculating and Normalizing weights by dividing the count by global maximum count\n",
        "interaction_counts_with_weights = interaction_counts.withColumn(\n",
        "    \"weight\",\n",
        "    (col(\"count\") / max_count)\n",
        ")\n",
        "\n",
        "#Updated interaction counts with weights\n",
        "interaction_counts_with_weights.show()\n",
        "\n",
        "#Joining calculated weights back to the final dataset\n",
        "final_df = final_df.join(\n",
        "    interaction_counts_with_weights.select(\"type\", \"category\", \"country\", \"weight\"),\n",
        "    on=[\"type\", \"category\", \"country\"],\n",
        "    how=\"left\"\n",
        ")\n",
        "\n",
        "final_df.show()"
      ],
      "metadata": {
        "colab": {
          "base_uri": "https://localhost:8080/"
        },
        "id": "jhgVshFz1ded",
        "outputId": "649edd8c-b842-47d7-b8a7-46d504f0ae8f"
      },
      "execution_count": null,
      "outputs": [
        {
          "output_type": "stream",
          "name": "stdout",
          "text": [
            "+--------------+-------------------+-------+-----+--------------------+\n",
            "|          type|           category|country|count|              weight|\n",
            "+--------------+-------------------+-------+-----+--------------------+\n",
            "|   add_to_cart|Uncategorized Items|     IN|  581|0.013083522868016303|\n",
            "|      purchase|            Apparel|     TW|   77|0.001733960862026...|\n",
            "|   add_to_cart|                New|     TW|  575| 0.01294840903461166|\n",
            "|   add_to_cart|  Campus Collection|     SE|   69|0.001553809084153...|\n",
            "|   add_to_cart|          Clearance|     ES|  268|0.006035084558740739|\n",
            "|      purchase|          Lifestyle|     HU|    1|2.251897223410723...|\n",
            "|begin_checkout|             Office|     BR|   15|3.377845835116085...|\n",
            "|      purchase|  Campus Collection|     NL|   17| 3.82822527979823E-4|\n",
            "|   add_to_cart|            Apparel|     BH|   20|4.503794446821447E-4|\n",
            "|begin_checkout|Uncategorized Items|     HU|    1|2.251897223410723...|\n",
            "|      purchase|             Office|     GR|    2|4.503794446821447E-5|\n",
            "|   add_to_cart|             Google|     AR|    4|9.007588893642894E-5|\n",
            "|   add_to_cart|        Small Goods|     EG|    4|9.007588893642894E-5|\n",
            "|begin_checkout|          Lifestyle|     KW|    1|2.251897223410723...|\n",
            "|   add_to_cart|             Office|     BY|    6|1.351138334046434E-4|\n",
            "|   add_to_cart|            Apparel|     JP| 1247| 0.02808115837593172|\n",
            "|   add_to_cart|          Drinkware|     US| 4431| 0.09978156596932916|\n",
            "|   add_to_cart|          Clearance|     IL|   51|0.001148467583939469|\n",
            "|   add_to_cart|        Accessories|     AU|  181|0.004075933974373...|\n",
            "|   add_to_cart|  Campus Collection|     FR|  193|0.004346161641182697|\n",
            "+--------------+-------------------+-------+-----+--------------------+\n",
            "only showing top 20 rows\n",
            "\n",
            "+-----------+--------------------+-------+-------+-------+--------------------+--------------------+\n",
            "|       type|            category|country|item_id|user_id|                name|              weight|\n",
            "+-----------+--------------------+-------+-------+-------+--------------------+--------------------+\n",
            "|add_to_cart|             Apparel|     JP|   1058|  10255|Google Heather Gr...| 0.02808115837593172|\n",
            "|add_to_cart|           Drinkware|     US|    989|  11073|Google Bottle Cle...| 0.09978156596932916|\n",
            "|   purchase|                 New|     IE|    385|  25157|  Android Iconic Pen|2.026707501069651...|\n",
            "|add_to_cart|             Apparel|     US|   1068|   5808|Google Eco Tee Black|                 1.0|\n",
            "|add_to_cart|             Apparel|     US|    960|   5730|Google Land & Sea...|                 1.0|\n",
            "|   purchase| Uncategorized Items|     US|    651|  29723|Google Crewneck S...|0.004976692863737699|\n",
            "|   purchase| Uncategorized Items|     US|     38|   4474|Google Unisex Eco...|0.004976692863737699|\n",
            "|   purchase|           Drinkware|     FR|     56|  24637|Google Camp Mug I...| 3.82822527979823E-4|\n",
            "|add_to_cart|             Apparel|     NZ|    953|  24613|Google Land & Sea...|0.003220213029477...|\n",
            "|add_to_cart|         Accessories|     US|   1037|  15261|Noogler Android F...| 0.22001035872722768|\n",
            "|add_to_cart|Notebooks & Journals|     US|    978|   6076|Android Large Tra...|0.046479158691197335|\n",
            "|   purchase|             Apparel|     IN|     53|  29052|Google Sherpa Zip...| 0.00952552525502736|\n",
            "|   purchase|             Apparel|     US|    280|   9745|Google Sherpa Zip...| 0.04609633616321751|\n",
            "|   purchase|             Apparel|     US|     25|  30751|   Google Crew Socks| 0.04609633616321751|\n",
            "|   purchase|             Apparel|     US|     97|  29975|Google Red Speckl...| 0.04609633616321751|\n",
            "|add_to_cart|              Office|     IN|    912|  24051|Keyboard DOT Sticker|0.019343797149098115|\n",
            "|add_to_cart|             Apparel|     TR|     77|  20409|YouTube Twill San...|0.020807530344315085|\n",
            "|   purchase|   Campus Collection|     US|    406|  20141|Google Chicago Ca...|0.013488864368230234|\n",
            "|add_to_cart|             Apparel|     IN|   1041|  13285|Google Leather St...| 0.20240052244015583|\n",
            "|add_to_cart|                 New|     ID|   1044| 229983|Android Iconic Ha...|0.005562186141824487|\n",
            "+-----------+--------------------+-------+-------+-------+--------------------+--------------------+\n",
            "only showing top 20 rows\n",
            "\n"
          ]
        }
      ]
    },
    {
      "cell_type": "code",
      "source": [
        "ratings_df = final_df.select(\"user_id\", \"item_id\", \"weight\") # Selecting from final_df instead of events_df\n",
        "ratings_df.show()"
      ],
      "metadata": {
        "colab": {
          "base_uri": "https://localhost:8080/"
        },
        "id": "C4_5DcOI3b8p",
        "outputId": "a2035086-26c6-4fbc-f85e-a499d31815a5"
      },
      "execution_count": null,
      "outputs": [
        {
          "output_type": "stream",
          "name": "stdout",
          "text": [
            "+-------+-------+--------------------+\n",
            "|user_id|item_id|              weight|\n",
            "+-------+-------+--------------------+\n",
            "|  10255|   1058| 0.02808115837593172|\n",
            "|  11073|    989| 0.09978156596932916|\n",
            "|  25157|    385|2.026707501069651...|\n",
            "|   5808|   1068|                 1.0|\n",
            "|   5730|    960|                 1.0|\n",
            "|  29723|    651|0.004976692863737699|\n",
            "|   4474|     38|0.004976692863737699|\n",
            "|  24637|     56| 3.82822527979823E-4|\n",
            "|  24613|    953|0.003220213029477...|\n",
            "|  15261|   1037| 0.22001035872722768|\n",
            "|   6076|    978|0.046479158691197335|\n",
            "|  29052|     53| 0.00952552525502736|\n",
            "|   9745|    280| 0.04609633616321751|\n",
            "|  30751|     25| 0.04609633616321751|\n",
            "|  29975|     97| 0.04609633616321751|\n",
            "|  24051|    912|0.019343797149098115|\n",
            "|  20409|     77|0.020807530344315085|\n",
            "|  20141|    406|0.013488864368230234|\n",
            "|  13285|   1041| 0.20240052244015583|\n",
            "| 229983|   1044|0.005562186141824487|\n",
            "+-------+-------+--------------------+\n",
            "only showing top 20 rows\n",
            "\n"
          ]
        }
      ]
    },
    {
      "cell_type": "code",
      "source": [
        "# Splitting the ratings_df into training and test sets 75% and 25% respectively\n",
        "(training_df, test_df) = ratings_df.randomSplit([0.75, 0.25])\n",
        "\n",
        "#ALS model\n",
        "als = ALS(\n",
        "    userCol=\"user_id\",\n",
        "    itemCol=\"item_id\",\n",
        "    ratingCol=\"weight\",\n",
        "    coldStartStrategy=\"drop\",\n",
        "    nonnegative=True,\n",
        "    rank=10,\n",
        "    maxIter=15,\n",
        "    regParam=0.1\n",
        ")\n",
        "\n",
        "# Fitting the model\n",
        "model = als.fit(training_df)"
      ],
      "metadata": {
        "id": "MDox4uxy440A"
      },
      "execution_count": null,
      "outputs": []
    },
    {
      "cell_type": "code",
      "source": [
        "# Predictions using test_df\n",
        "predictions = model.transform(test_df)\n",
        "\n",
        "predictions.show(5)"
      ],
      "metadata": {
        "colab": {
          "base_uri": "https://localhost:8080/"
        },
        "id": "LI7DY8ZT51UU",
        "outputId": "07ef26d8-3aa8-4b24-8900-c7b0dbb1083c"
      },
      "execution_count": null,
      "outputs": [
        {
          "output_type": "stream",
          "name": "stdout",
          "text": [
            "+-------+-------+--------------------+------------+\n",
            "|user_id|item_id|              weight|  prediction|\n",
            "+-------+-------+--------------------+------------+\n",
            "|      1|    169|0.060170693809534534| 0.047449972|\n",
            "|      3|    390| 7.65645055959646E-4|1.3409644E-5|\n",
            "|      4|    152|0.060170693809534534| 0.027290529|\n",
            "|      4|    972| 0.06674623370189385|  0.03694136|\n",
            "|      4|    977|0.046479158691197335| 0.025643552|\n",
            "+-------+-------+--------------------+------------+\n",
            "only showing top 5 rows\n",
            "\n"
          ]
        }
      ]
    },
    {
      "cell_type": "code",
      "source": [
        "# Calculating RMSE to check model performance\n",
        "\n",
        "evaluator = RegressionEvaluator(\n",
        "    metricName=\"rmse\",\n",
        "    labelCol=\"weight\",\n",
        "    predictionCol=\"prediction\"\n",
        ")\n",
        "# Computing RMSE for the model\n",
        "rmse = evaluator.evaluate(predictions)\n",
        "\n",
        "# Calculating average rating in the training set\n",
        "average_rating = training_df.select(mean(\"weight\").alias(\"avg_weight\")).collect()[0][\"avg_weight\"]\n",
        "\n",
        "# Creating a baseline prediction by assigning the average rating to all items in the test set\n",
        "baseline_predictions = test_df.withColumn(\"prediction\", lit(average_rating))\n",
        "\n",
        "# Computing RMSE for the baseline\n",
        "baseline_rmse = evaluator.evaluate(baseline_predictions)\n",
        "\n",
        "print(f\"Root-mean-square error (Model) = {rmse}\")\n",
        "print(f\"Root-mean-square error (Baseline) = {baseline_rmse}\")"
      ],
      "metadata": {
        "colab": {
          "base_uri": "https://localhost:8080/"
        },
        "id": "8tzTlRiJ6G6F",
        "outputId": "8128f2d6-41a9-4fc0-c966-6223f3946917"
      },
      "execution_count": null,
      "outputs": [
        {
          "output_type": "stream",
          "name": "stdout",
          "text": [
            "Root-mean-square error (Model) = 0.12031406288978688\n",
            "Root-mean-square error (Baseline) = 0.3412433181466398\n"
          ]
        }
      ]
    },
    {
      "cell_type": "code",
      "source": [
        "# Generate top 10 recommendations for each user\n",
        "user_recommendations = model.recommendForAllUsers(10)\n",
        "\n",
        "# Flattening the recommendations DataFrame to remove already interacted items\n",
        "interacted_items = final_df.select(\"user_id\", \"item_id\").distinct()\n",
        "\n",
        "flattened_recommendations = user_recommendations.select(\n",
        "    col(\"user_id\"),\n",
        "    explode(col(\"recommendations\")).alias(\"recommendation\")\n",
        ").select(\n",
        "    col(\"user_id\"),\n",
        "    col(\"recommendation.item_id\").alias(\"item_id\"),\n",
        "    col(\"recommendation.rating\").alias(\"rating\")\n",
        ")\n",
        "\n",
        "filtered_recommendations = flattened_recommendations.join(\n",
        "    interacted_items,\n",
        "    on=[\"user_id\", \"item_id\"],\n",
        "    how=\"left_anti\"  # Keep only items not present in the interaction dataset\n",
        ")\n",
        "\n",
        "# Re-grouping the recommendations back to the original structure\n",
        "final_recommendations = filtered_recommendations.groupBy(\"user_id\").agg(\n",
        "    expr(\"collect_list(struct(item_id, rating))\").alias(\"recommendations\")\n",
        ")\n",
        "\n",
        "# Final Recommendations\n",
        "final_recommendations.show(truncate=False)"
      ],
      "metadata": {
        "colab": {
          "base_uri": "https://localhost:8080/"
        },
        "id": "L665I5ZA6iMX",
        "outputId": "a7b1a148-1990-44d1-df0a-c98209d73714"
      },
      "execution_count": null,
      "outputs": [
        {
          "output_type": "stream",
          "name": "stdout",
          "text": [
            "+-------+---------------------------------------------------------------------------------------------------------------------------------------------------------------------------------------------------------------------------+\n",
            "|user_id|recommendations                                                                                                                                                                                                            |\n",
            "+-------+---------------------------------------------------------------------------------------------------------------------------------------------------------------------------------------------------------------------------+\n",
            "|1      |[{1149, 0.9711454}, {1203, 0.9803217}, {1289, 1.0301578}, {1379, 1.0531031}, {1238, 1.0341187}, {829, 0.9877991}, {1367, 1.0239687}, {1365, 0.9949815}, {1333, 0.9688321}, {1347, 0.97799385}]                             |\n",
            "|3      |[{1203, 2.453024E-4}, {829, 2.4717345E-4}, {1367, 2.5622416E-4}, {1347, 2.447199E-4}, {1333, 2.4242743E-4}, {1379, 2.6351426E-4}, {1289, 2.577727E-4}, {1365, 2.4897067E-4}, {1149, 2.4300629E-4}, {1238, 2.5876387E-4}]   |\n",
            "|4      |[{1149, 0.5684766}, {1347, 0.5724855}, {1333, 0.5671225}, {1379, 0.61645186}, {1365, 0.5824295}, {1289, 0.60302067}, {1367, 0.59939766}, {1203, 0.5738481}, {829, 0.5782252}, {1238, 0.6053391}]                           |\n",
            "|6      |[{1289, 0.19591096}, {829, 0.18785535}, {1149, 0.1846881}, {1238, 0.1966641}, {1365, 0.18922132}, {1347, 0.18599077}, {1203, 0.1864334}, {1379, 0.20027442}, {1367, 0.19473362}, {1333, 0.1842482}]                        |\n",
            "|7      |[{1203, 0.3691599}, {1149, 0.36570412}, {1289, 0.38792664}, {1365, 0.3746803}, {829, 0.37197554}, {1367, 0.38559553}, {1379, 0.3965668}, {1333, 0.364833}, {1238, 0.389418}, {1347, 0.36828336}]                           |\n",
            "|9      |[{1379, 0.16722284}, {1365, 0.1579937}, {1367, 0.16259658}, {1203, 0.15566584}, {1333, 0.15384142}, {1238, 0.16420831}, {829, 0.1568532}, {1289, 0.16357936}, {1347, 0.1552962}, {1149, 0.15420873}]                       |\n",
            "|10     |[{829, 0.020392222}, {1289, 0.021266682}, {1203, 0.020237869}, {1379, 0.021740342}, {1333, 0.02000065}, {1238, 0.021348432}, {1365, 0.02054051}, {1347, 0.020189822}, {1367, 0.021138866}, {1149, 0.020048406}]            |\n",
            "|11     |[{1365, 0.15015677}, {1347, 0.1475931}, {1289, 0.15546538}, {1149, 0.14655955}, {1333, 0.14621045}, {1367, 0.15453133}, {1203, 0.1479444}, {1238, 0.15606314}, {1379, 0.15892813}, {829, 0.14907284}]                      |\n",
            "|12     |[{1367, 0.037581153}, {1347, 0.035893805}, {829, 0.036253676}, {1289, 0.037808303}, {1203, 0.03597924}, {1365, 0.036517274}, {1379, 0.03865043}, {1238, 0.03795368}, {1149, 0.03564246}, {1333, 0.03555756}]               |\n",
            "|15     |[{1333, 0.05061733}, {1149, 0.05073819}, {1365, 0.051983543}, {829, 0.051608283}, {1289, 0.05382135}, {1367, 0.053497978}, {1238, 0.054028276}, {1347, 0.051096026}, {1203, 0.05121763}, {1379, 0.055020124}]              |\n",
            "|17     |[{1347, 4.198954E-4}, {1149, 4.1695486E-4}, {1203, 4.208948E-4}, {1379, 4.5214282E-4}, {829, 4.2410512E-4}, {1367, 4.396341E-4}, {1238, 4.439921E-4}, {1289, 4.422916E-4}, {1333, 4.1596172E-4}, {1365, 4.2718888E-4}]     |\n",
            "|20     |[{1365, 0.16475353}, {1289, 0.17057821}, {1203, 0.16232611}, {1347, 0.16194063}, {1367, 0.1695534}, {829, 0.16356425}, {1333, 0.16042362}, {1238, 0.17123409}, {1149, 0.16080666}, {1379, 0.17437759}]                     |\n",
            "|22     |[{1347, 0.6778492}, {1333, 0.6714977}, {1289, 0.71400315}, {1379, 0.72990555}, {829, 0.6846444}, {1149, 0.673101}, {1365, 0.6896229}, {1203, 0.6794622}, {1367, 0.7097115}, {1238, 0.71674764}]                            |\n",
            "|23     |[{1365, 0.017311998}, {1367, 0.017816301}, {1149, 0.01689724}, {1238, 0.017992927}, {1289, 0.017924035}, {1347, 0.017016431}, {829, 0.01718702}, {1379, 0.018323239}, {1203, 0.017056925}, {1333, 0.016856994}]            |\n",
            "|28     |[{1347, 0.0014655319}, {1289, 0.0015436995}, {829, 0.0014802247}, {1203, 0.0014690199}, {1149, 0.0014552684}, {1379, 0.0015780822}, {1365, 0.0014909876}, {1367, 0.0015344238}, {1238, 0.0015496342}, {1333, 0.0014518017}]|\n",
            "|31     |[{1367, 0.01910668}, {1289, 0.019222183}, {1347, 0.018248837}, {1333, 0.01807787}, {1238, 0.019296084}, {1365, 0.018565815}, {1149, 0.018121036}, {829, 0.01843179}, {1379, 0.01965032}, {1203, 0.01829227}]               |\n",
            "|35     |[{1203, 0.0145786395}, {1379, 0.015660957}, {1333, 0.01440775}, {1149, 0.014442149}, {1347, 0.014544029}, {1238, 0.015378639}, {1367, 0.01522767}, {1365, 0.014796648}, {829, 0.0146898255}, {1289, 0.015319756}]          |\n",
            "|37     |[{1289, 0.67816263}, {1367, 0.6740883}, {829, 0.65027744}, {1238, 0.6807702}, {1333, 0.6377914}, {1379, 0.6932677}, {1203, 0.6453551}, {1365, 0.6550057}, {1347, 0.64382267}, {1149, 0.6393143}]                           |\n",
            "|39     |[{1289, 0.027161205}, {1365, 0.026233742}, {1333, 0.025544288}, {829, 0.02604437}, {1347, 0.025785845}, {1379, 0.027766181}, {1238, 0.027265638}, {1149, 0.02560528}, {1367, 0.026998023}, {1203, 0.025847219}]            |\n",
            "|41     |[{1347, 0.9726602}, {1367, 1.0183842}, {1379, 1.0473597}, {1365, 0.989555}, {1289, 1.0245396}, {1333, 0.9635484}, {1149, 0.965849}, {829, 0.98241186}, {1203, 0.9749751}, {1238, 1.028479}]                                |\n",
            "+-------+---------------------------------------------------------------------------------------------------------------------------------------------------------------------------------------------------------------------------+\n",
            "only showing top 20 rows\n",
            "\n"
          ]
        }
      ]
    },
    {
      "cell_type": "code",
      "source": [
        "# Explode recommendations to get item_id and rating for all users\n",
        "exploded_recommendations = user_recommendations.withColumn(\"recommendation\", explode(col(\"recommendations\"))) \\\n",
        "    .select(\"user_id\", col(\"recommendation.item_id\").alias(\"item_id\"), col(\"recommendation.rating\").alias(\"rating\"))\n",
        "\n",
        "# Calculate average rating for each item\n",
        "average_ratings = exploded_recommendations.groupBy(\"item_id\").agg(avg(\"rating\").alias(\"average_rating\"))\n",
        "\n",
        "average_ratings_df = average_ratings.orderBy(col(\"average_rating\").desc()).limit(10).toPandas()\n",
        "\n",
        "# Bar chart\n",
        "plt.figure(figsize=(10, 6))\n",
        "plt.bar(average_ratings_df[\"item_id\"].astype(str), average_ratings_df[\"average_rating\"], color=\"coral\")\n",
        "plt.xlabel(\"Item ID\")\n",
        "plt.ylabel(\"Average Rating\")\n",
        "plt.title(\"Top 10 Items by Average Rating\")\n",
        "plt.xticks(rotation=45)\n",
        "plt.show()"
      ],
      "metadata": {
        "colab": {
          "base_uri": "https://localhost:8080/",
          "height": 585
        },
        "id": "eZkQ3ht1ApSc",
        "outputId": "9489b6ba-d4a2-4755-c6c6-17725cde988a"
      },
      "execution_count": null,
      "outputs": [
        {
          "output_type": "display_data",
          "data": {
            "text/plain": [
              "<Figure size 1000x600 with 1 Axes>"
            ],
            "image/png": "[encoded data removed]"
          },
          "metadata": {}
        }
      ]
    },
    {
      "cell_type": "code",
      "source": [
        "flattened_recommendations = final_recommendations.withColumn(\n",
        "    \"recommendations\",\n",
        "    concat_ws(\n",
        "        \", \",\n",
        "        col(\"recommendations\").cast(\"string\")  # Convert array of structs to a string\n",
        "    )\n",
        ")\n",
        "\n",
        "# Save to CSV\n",
        "flattened_recommendations.write.csv(\"Final_Recommendation.csv\", header=True)"
      ],
      "metadata": {
        "id": "OXsFxeW5BGxs"
      },
      "execution_count": null,
      "outputs": []
    },
    {
      "cell_type": "code",
      "source": [],
      "metadata": {
        "id": "hXAjsTpTDKJt"
      },
      "execution_count": null,
      "outputs": []
    }
  ]
}